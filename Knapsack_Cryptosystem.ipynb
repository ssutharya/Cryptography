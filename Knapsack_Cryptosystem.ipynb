{
  "nbformat": 4,
  "nbformat_minor": 0,
  "metadata": {
    "colab": {
      "provenance": [],
      "authorship_tag": "ABX9TyNRXsoiDlWBkbSdlytb55jQ"
    },
    "kernelspec": {
      "name": "python3",
      "display_name": "Python 3"
    },
    "language_info": {
      "name": "python"
    }
  },
  "cells": [
    {
      "cell_type": "code",
      "source": [
        "import random\n",
        "import math"
      ],
      "metadata": {
        "id": "hcKKTrKcPUyV"
      },
      "execution_count": 88,
      "outputs": []
    },
    {
      "cell_type": "code",
      "execution_count": 89,
      "metadata": {
        "id": "_jHrF3B5PAti"
      },
      "outputs": [],
      "source": [
        "def super_increasing(num):\n",
        "    \"\"\"Generate a super-increasing sequence\"\"\"\n",
        "    sequence = [random.randint(1, 10)]  # Start with a smaller number\n",
        "    for _ in range(num - 1):\n",
        "        next_num = sum(sequence) + random.randint(1, 10)\n",
        "        sequence.append(next_num)\n",
        "    return sequence\n"
      ]
    },
    {
      "cell_type": "code",
      "source": [
        "def permutation_list(num):\n",
        "    \"\"\"Generate a permutation of numbers 0 to num-1\"\"\"\n",
        "    permutation = list(range(num))\n",
        "    random.shuffle(permutation)\n",
        "    return permutation"
      ],
      "metadata": {
        "id": "ggutT86XTqc3"
      },
      "execution_count": 90,
      "outputs": []
    },
    {
      "cell_type": "code",
      "source": [
        "def public_key(sequence, n, r, permutation):\n",
        "    \"\"\"Generate public key\"\"\"\n",
        "    temp = [r * sequence[i] % n for i in range(len(sequence))]\n",
        "    return [temp[permutation[i]] for i in range(len(permutation))]"
      ],
      "metadata": {
        "id": "BwSSfV-LPkA3"
      },
      "execution_count": 91,
      "outputs": []
    },
    {
      "cell_type": "code",
      "source": [
        "def private_key(n, r, sequence, permutation):\n",
        "    \"\"\"Generate private key\"\"\"\n",
        "    return (n, r, sequence, permutation)"
      ],
      "metadata": {
        "id": "ykrkAIWsR2pp"
      },
      "execution_count": 92,
      "outputs": []
    },
    {
      "cell_type": "code",
      "source": [
        "def text_to_binary(text):\n",
        "    \"\"\"Convert text to binary string\"\"\"\n",
        "    return ''.join(format(ord(char), '08b') for char in text)"
      ],
      "metadata": {
        "id": "5oQXuyDjiDqJ"
      },
      "execution_count": 93,
      "outputs": []
    },
    {
      "cell_type": "code",
      "source": [
        "def encrypt(plain_text, public_key):\n",
        "    \"\"\"Encrypt the plain text using public key\"\"\"\n",
        "    binary = text_to_binary(plain_text)\n",
        "\n",
        "    if len(binary) > len(public_key):\n",
        "        raise ValueError(\"Message too long for the current key size\")\n",
        "\n",
        "    # Pad binary with zeros if needed\n",
        "    binary = binary.ljust(len(public_key), '0')\n",
        "\n",
        "    # Calculate cipher text\n",
        "    cipher_text = sum(int(binary[i]) * public_key[i] for i in range(len(binary)))\n",
        "    return cipher_text"
      ],
      "metadata": {
        "id": "TGUfWasUUpSG"
      },
      "execution_count": 94,
      "outputs": []
    },
    {
      "cell_type": "code",
      "source": [
        "def decrypt(cipher_text, private_key):\n",
        "    \"\"\"Decrypt the cipher text using private key\"\"\"\n",
        "    n, r, sequence, permutation = private_key\n",
        "\n",
        "    # Calculate modular multiplicative inverse of r\n",
        "    r_inverse = pow(r, -1, n)\n",
        "\n",
        "    # Transform cipher text\n",
        "    s = (cipher_text * r_inverse) % n\n",
        "\n",
        "    # Reverse permutation\n",
        "    inv_perm = [0] * len(permutation)\n",
        "    for i in range(len(permutation)):\n",
        "        inv_perm[permutation[i]] = i\n",
        "\n",
        "    # Decrypt using super-increasing sequence\n",
        "    binary = ['0'] * len(sequence)\n",
        "    temp = s\n",
        "\n",
        "    for i in range(len(sequence) - 1, -1, -1):\n",
        "        if temp >= sequence[i]:\n",
        "            binary[inv_perm[i]] = '1'\n",
        "            temp -= sequence[i]\n",
        "\n",
        "    # Convert binary back to text (only take complete bytes)\n",
        "    binary_str = ''.join(binary)\n",
        "    complete_bytes = binary_str[:len(binary_str) - (len(binary_str) % 8)]\n",
        "    return binary_to_text(complete_bytes)"
      ],
      "metadata": {
        "id": "tsj9DcfRVxLJ"
      },
      "execution_count": 95,
      "outputs": []
    },
    {
      "cell_type": "code",
      "source": [
        "def main():\n",
        "    # Parameters\n",
        "    message = \"hehe catto, my love\"\n",
        "    bits_needed = len(message) * 8  # 8 bits per character - num\n",
        "\n",
        "    # Generate keys\n",
        "    sequence = super_increasing(bits_needed)\n",
        "    n = sum(sequence) * 2  # Make sure n is larger than sum of sequence\n",
        "    r = random.randint(2, n-1)\n",
        "    while math.gcd(r, n) != 1:\n",
        "        r = random.randint(2, n-1)\n",
        "\n",
        "    permutation = permutation_list(bits_needed)\n",
        "    pub_key = public_key(sequence, n, r, permutation)\n",
        "    priv_key = private_key(n, r, sequence, permutation)\n",
        "\n",
        "    # Encrypt and decrypt\n",
        "    cipher_text = encrypt(message, pub_key)\n",
        "    decrypted = decrypt(cipher_text, priv_key)\n",
        "\n",
        "    print(f\"Original message: {message}\")\n",
        "    print(f\"Encrypted: {cipher_text}\")\n",
        "    print(f\"Decrypted: {decrypted}\")\n",
        "\n",
        "if __name__ == \"__main__\":\n",
        "    main()"
      ],
      "metadata": {
        "colab": {
          "base_uri": "https://localhost:8080/"
        },
        "id": "JnMUuyVTnCUh",
        "outputId": "20e843dd-802d-4bb8-fb24-6b0f7dcd96b0"
      },
      "execution_count": 98,
      "outputs": [
        {
          "output_type": "stream",
          "name": "stdout",
          "text": [
            "Original message: hehe catto, my love\n",
            "Encrypted: 1340065963689923767810173541170650124202849929044\n",
            "Decrypted: hehe catto, my love\n"
          ]
        }
      ]
    }
  ]
}